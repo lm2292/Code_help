{
  "cells": [
    {
      "metadata": {
        "trusted": true
      },
      "cell_type": "code",
      "source": "!pytest mypkg",
      "execution_count": 1,
      "outputs": [
        {
          "output_type": "stream",
          "text": "\u001b[1m============================= test session starts ==============================\u001b[0m\nplatform linux -- Python 3.6.6, pytest-3.8.2, py-1.6.0, pluggy-0.7.1\nrootdir: /home/nbuser/library, inifile:\nplugins: remotedata-0.3.0, openfiles-0.3.0, doctestplus-0.1.3, arraydiff-0.2\ncollected 17 items                                                             \u001b[0m\u001b[1m\u001b[1m\n\nmypkg/test/test_errors.py .s\u001b[36m                                             [ 11%]\u001b[0m\nmypkg/test/test_mymath.py X.......s..F...\u001b[36m                                [100%]\u001b[0m\n\n=================================== FAILURES ===================================\n\u001b[31m\u001b[1m____________________________ test_greaterThan[3-7] _____________________________\u001b[0m\n\nx = 3, y = 7\n\n\u001b[1m    @pytest.mark.parametrize(\"x, y\",\u001b[0m\n\u001b[1m                            [(108, 56),\u001b[0m\n\u001b[1m                             (-64, -333),\u001b[0m\n\u001b[1m                             (3, 7),\u001b[0m\n\u001b[1m                             (74, 15)])\u001b[0m\n\u001b[1m    def test_greaterThan(x, y):\u001b[0m\n\u001b[1m        \"\"\" Test the greaterThan function. \"\"\"\u001b[0m\n\u001b[1m    \u001b[0m\n\u001b[1m        if x > y:\u001b[0m\n\u001b[1m            assert greaterThan(x, y)\u001b[0m\n\u001b[1m        else:\u001b[0m\n\u001b[1m>           assert not greaterThan(x, y)\u001b[0m\n\u001b[1m\u001b[31mE           assert not True\u001b[0m\n\u001b[1m\u001b[31mE            +  where True = greaterThan(3, 7)\u001b[0m\n\n\u001b[1m\u001b[31mmypkg/test/test_mymath.py\u001b[0m:47: AssertionError\n\u001b[31m\u001b[1m========== 1 failed, 13 passed, 2 skipped, 1 xpassed in 13.97 seconds ==========\u001b[0m\n",
          "name": "stdout"
        }
      ]
    },
    {
      "metadata": {
        "trusted": true
      },
      "cell_type": "code",
      "source": "!pytest mypkg -v",
      "execution_count": 2,
      "outputs": [
        {
          "output_type": "stream",
          "text": "\u001b[1m============================= test session starts ==============================\u001b[0m\nplatform linux -- Python 3.6.6, pytest-3.8.2, py-1.6.0, pluggy-0.7.1 -- /home/nbuser/anaconda3_501/bin/python\ncachedir: .pytest_cache\nrootdir: /home/nbuser/library, inifile:\nplugins: remotedata-0.3.0, openfiles-0.3.0, doctestplus-0.1.3, arraydiff-0.2\ncollected 17 items                                                             \u001b[0m\u001b[1m\u001b[1m\n\nmypkg/test/test_errors.py::test_indexError \u001b[32mPASSED\u001b[0m\u001b[36m                        [  5%]\u001b[0m\nmypkg/test/test_errors.py::test_BSoD \u001b[33mSKIPPED\u001b[0m\u001b[36m                             [ 11%]\u001b[0m\nmypkg/test/test_mymath.py::test_add \u001b[33mXPASS\u001b[0m\u001b[36m                                [ 17%]\u001b[0m\nmypkg/test/test_mymath.py::test_sub[1-2--1] \u001b[32mPASSED\u001b[0m\u001b[36m                       [ 23%]\u001b[0m\nmypkg/test/test_mymath.py::test_sub[7-3-4] \u001b[32mPASSED\u001b[0m\u001b[36m                        [ 29%]\u001b[0m\nmypkg/test/test_mymath.py::test_sub[21-58--37] \u001b[32mPASSED\u001b[0m\u001b[36m                    [ 35%]\u001b[0m\nmypkg/test/test_mymath.py::test_mul[3-1] \u001b[32mPASSED\u001b[0m\u001b[36m                          [ 41%]\u001b[0m\nmypkg/test/test_mymath.py::test_mul[3-2] \u001b[32mPASSED\u001b[0m\u001b[36m                          [ 47%]\u001b[0m\nmypkg/test/test_mymath.py::test_mul[4-1] \u001b[32mPASSED\u001b[0m\u001b[36m                          [ 52%]\u001b[0m\nmypkg/test/test_mymath.py::test_mul[4-2] \u001b[32mPASSED\u001b[0m\u001b[36m                          [ 58%]\u001b[0m\nmypkg/test/test_mymath.py::test_div \u001b[33mSKIPPED\u001b[0m\u001b[36m                              [ 64%]\u001b[0m\nmypkg/test/test_mymath.py::test_greaterThan[108-56] \u001b[32mPASSED\u001b[0m\u001b[36m               [ 70%]\u001b[0m\nmypkg/test/test_mymath.py::test_greaterThan[-64--333] \u001b[32mPASSED\u001b[0m\u001b[36m             [ 76%]\u001b[0m\nmypkg/test/test_mymath.py::test_greaterThan[3-7] \u001b[31mFAILED\u001b[0m\u001b[36m                  [ 82%]\u001b[0m\nmypkg/test/test_mymath.py::test_greaterThan[74-15] \u001b[32mPASSED\u001b[0m\u001b[36m                [ 88%]\u001b[0m\nmypkg/test/test_mymath.py::test_isLucky \u001b[32mPASSED\u001b[0m\u001b[36m                           [ 94%]\u001b[0m\nmypkg/test/test_mymath.py::test_bigSum \u001b[32mPASSED\u001b[0m\u001b[36m                            [100%]\u001b[0m\n\n=================================== FAILURES ===================================\n\u001b[31m\u001b[1m____________________________ test_greaterThan[3-7] _____________________________\u001b[0m\n\nx = 3, y = 7\n\n\u001b[1m    @pytest.mark.parametrize(\"x, y\",\u001b[0m\n\u001b[1m                            [(108, 56),\u001b[0m\n\u001b[1m                             (-64, -333),\u001b[0m\n\u001b[1m                             (3, 7),\u001b[0m\n\u001b[1m                             (74, 15)])\u001b[0m\n\u001b[1m    def test_greaterThan(x, y):\u001b[0m\n\u001b[1m        \"\"\" Test the greaterThan function. \"\"\"\u001b[0m\n\u001b[1m    \u001b[0m\n\u001b[1m        if x > y:\u001b[0m\n\u001b[1m            assert greaterThan(x, y)\u001b[0m\n\u001b[1m        else:\u001b[0m\n\u001b[1m>           assert not greaterThan(x, y)\u001b[0m\n\u001b[1m\u001b[31mE           assert not True\u001b[0m\n\u001b[1m\u001b[31mE            +  where True = greaterThan(3, 7)\u001b[0m\n\n\u001b[1m\u001b[31mmypkg/test/test_mymath.py\u001b[0m:47: AssertionError\n\u001b[31m\u001b[1m========== 1 failed, 13 passed, 2 skipped, 1 xpassed in 10.95 seconds ==========\u001b[0m\n",
          "name": "stdout"
        }
      ]
    },
    {
      "metadata": {
        "trusted": true
      },
      "cell_type": "code",
      "source": "!pytest mypkg -rsx",
      "execution_count": 3,
      "outputs": [
        {
          "output_type": "stream",
          "text": "\u001b[1m============================= test session starts ==============================\u001b[0m\nplatform linux -- Python 3.6.6, pytest-3.8.2, py-1.6.0, pluggy-0.7.1\nrootdir: /home/nbuser/library, inifile:\nplugins: remotedata-0.3.0, openfiles-0.3.0, doctestplus-0.1.3, arraydiff-0.2\ncollected 17 items                                                             \u001b[0m\u001b[1m\u001b[1m\n\nmypkg/test/test_errors.py .s\u001b[36m                                             [ 11%]\u001b[0m\nmypkg/test/test_mymath.py X.......s..F...\u001b[36m                                [100%]\u001b[0m\n\n=================================== FAILURES ===================================\n\u001b[31m\u001b[1m____________________________ test_greaterThan[3-7] _____________________________\u001b[0m\n\nx = 3, y = 7\n\n\u001b[1m    @pytest.mark.parametrize(\"x, y\",\u001b[0m\n\u001b[1m                            [(108, 56),\u001b[0m\n\u001b[1m                             (-64, -333),\u001b[0m\n\u001b[1m                             (3, 7),\u001b[0m\n\u001b[1m                             (74, 15)])\u001b[0m\n\u001b[1m    def test_greaterThan(x, y):\u001b[0m\n\u001b[1m        \"\"\" Test the greaterThan function. \"\"\"\u001b[0m\n\u001b[1m    \u001b[0m\n\u001b[1m        if x > y:\u001b[0m\n\u001b[1m            assert greaterThan(x, y)\u001b[0m\n\u001b[1m        else:\u001b[0m\n\u001b[1m>           assert not greaterThan(x, y)\u001b[0m\n\u001b[1m\u001b[31mE           assert not True\u001b[0m\n\u001b[1m\u001b[31mE            +  where True = greaterThan(3, 7)\u001b[0m\n\n\u001b[1m\u001b[31mmypkg/test/test_mymath.py\u001b[0m:47: AssertionError\n=========================== short test summary info ============================\nSKIP [1] mypkg/test/test_errors.py:12: Only runs on Windows.\nSKIP [1] mypkg/test/test_mymath.py:30: Not yet implemented.\n\u001b[31m\u001b[1m========== 1 failed, 13 passed, 2 skipped, 1 xpassed in 12.83 seconds ==========\u001b[0m\n",
          "name": "stdout"
        }
      ]
    },
    {
      "metadata": {
        "trusted": true
      },
      "cell_type": "code",
      "source": "!pytest mypkg -q",
      "execution_count": 4,
      "outputs": [
        {
          "output_type": "stream",
          "text": ".sX.......s..F...\u001b[36m                                                        [100%]\u001b[0m\n=================================== FAILURES ===================================\n\u001b[31m\u001b[1m____________________________ test_greaterThan[3-7] _____________________________\u001b[0m\n\nx = 3, y = 7\n\n\u001b[1m    @pytest.mark.parametrize(\"x, y\",\u001b[0m\n\u001b[1m                            [(108, 56),\u001b[0m\n\u001b[1m                             (-64, -333),\u001b[0m\n\u001b[1m                             (3, 7),\u001b[0m\n\u001b[1m                             (74, 15)])\u001b[0m\n\u001b[1m    def test_greaterThan(x, y):\u001b[0m\n\u001b[1m        \"\"\" Test the greaterThan function. \"\"\"\u001b[0m\n\u001b[1m    \u001b[0m\n\u001b[1m        if x > y:\u001b[0m\n\u001b[1m            assert greaterThan(x, y)\u001b[0m\n\u001b[1m        else:\u001b[0m\n\u001b[1m>           assert not greaterThan(x, y)\u001b[0m\n\u001b[1m\u001b[31mE           assert not True\u001b[0m\n\u001b[1m\u001b[31mE            +  where True = greaterThan(3, 7)\u001b[0m\n\n\u001b[1m\u001b[31mmypkg/test/test_mymath.py\u001b[0m:47: AssertionError\n\u001b[31m\u001b[1m1 failed, 13 passed, 2 skipped, 1 xpassed in 10.59 seconds\u001b[0m\n",
          "name": "stdout"
        }
      ]
    },
    {
      "metadata": {},
      "cell_type": "markdown",
      "source": "Have gone a fixed suspected bug in greaterThan()"
    },
    {
      "metadata": {
        "trusted": true
      },
      "cell_type": "code",
      "source": "!pytest mypkg -q",
      "execution_count": 5,
      "outputs": [
        {
          "output_type": "stream",
          "text": ".sX.......s......\u001b[36m                                                        [100%]\u001b[0m\n\u001b[32m\u001b[1m14 passed, 2 skipped, 1 xpassed in 12.50 seconds\u001b[0m\n",
          "name": "stdout"
        }
      ]
    },
    {
      "metadata": {
        "trusted": true
      },
      "cell_type": "code",
      "source": "",
      "execution_count": null,
      "outputs": []
    }
  ],
  "metadata": {
    "kernelspec": {
      "name": "python36",
      "display_name": "Python 3.6",
      "language": "python"
    },
    "language_info": {
      "mimetype": "text/x-python",
      "nbconvert_exporter": "python",
      "name": "python",
      "pygments_lexer": "ipython3",
      "version": "3.6.6",
      "file_extension": ".py",
      "codemirror_mode": {
        "version": 3,
        "name": "ipython"
      }
    }
  },
  "nbformat": 4,
  "nbformat_minor": 1
}